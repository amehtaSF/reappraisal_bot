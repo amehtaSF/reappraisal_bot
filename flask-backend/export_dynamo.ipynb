{
 "cells": [
  {
   "cell_type": "code",
   "execution_count": 19,
   "metadata": {},
   "outputs": [],
   "source": [
    "import boto3\n",
    "import os\n",
    "from decimal import Decimal\n",
    "from dotenv import load_dotenv\n",
    "import json\n",
    "from boto3.dynamodb.conditions import Key\n",
    "\n",
    "load_dotenv()\n",
    "\n",
    "\n",
    "aws_access_key_id = os.getenv('AWS_ACCESS_KEY_ID')\n",
    "aws_secret_access_key = os.getenv('AWS_SECRET_ACCESS_KEY')\n",
    "region_name = os.getenv('AWS_DEFAULT_REGION')\n",
    "\n",
    "\n",
    "dynamodb = boto3.resource(\n",
    "    'dynamodb',\n",
    "    aws_access_key_id=aws_access_key_id,\n",
    "    aws_secret_access_key=aws_secret_access_key,\n",
    "    region_name=region_name\n",
    ")\n",
    "\n",
    "\n",
    "# Custom class to handle Decimal types\n",
    "class DecimalEncoder(json.JSONEncoder):\n",
    "    def default(self, o):\n",
    "        if isinstance(o, Decimal):\n",
    "            return float(o)\n",
    "        return super(DecimalEncoder, self).default(o)\n",
    "\n",
    "def export_dynamodb_to_json(table_name, output_file):\n",
    "    # Initialize DynamoDB client\n",
    "    table = dynamodb.Table(table_name)\n",
    "    \n",
    "    # Scan the entire table\n",
    "    response = table.scan()\n",
    "    data = response['Items']\n",
    "    \n",
    "    # Keep scanning until all items are retrieved\n",
    "    while 'LastEvaluatedKey' in response:\n",
    "        print(\"Fetching more data...\")\n",
    "        response = table.scan(ExclusiveStartKey=response['LastEvaluatedKey'])\n",
    "        data.extend(response['Items'])\n",
    "    \n",
    "    # Save to JSON file\n",
    "    with open(output_file, 'w') as f:\n",
    "        json.dump(data, f, cls=DecimalEncoder, indent=4)\n",
    "    \n",
    "    print(f\"Data exported to {output_file} successfully.\")\n",
    "\n"
   ]
  },
  {
   "cell_type": "code",
   "execution_count": 21,
   "metadata": {},
   "outputs": [
    {
     "name": "stdout",
     "output_type": "stream",
     "text": [
      "Data exported to data/vbr_bot_career_convos.json successfully.\n",
      "Data exported to data/vbr_bot_career_messages.json successfully.\n",
      "Data exported to data/vbr_bot_career_state.json successfully.\n",
      "Data exported to data/vbr_bot_career_emotions.json successfully.\n",
      "Data exported to data/vbr_bot_career_values.json successfully.\n",
      "Data exported to data/vbr_bot_career_reappraisals.json successfully.\n"
     ]
    }
   ],
   "source": [
    "tbls = [\n",
    "    \"vbr_bot_career_convos\",\n",
    "    \"vbr_bot_career_messages\",\n",
    "    \"vbr_bot_career_state\",\n",
    "    \"vbr_bot_career_emotions\",\n",
    "    \"vbr_bot_career_values\",\n",
    "    \"vbr_bot_career_reappraisals\",\n",
    "]\n",
    "\n",
    "for tbl in tbls:\n",
    "    tbl_name = tbl\n",
    "    output_file = f\"{tbl_name}.json\"\n",
    "    output_file = os.path.join(\"data\", output_file)\n",
    "    export_dynamodb_to_json(tbl_name, output_file)"
   ]
  },
  {
   "cell_type": "code",
   "execution_count": 22,
   "metadata": {},
   "outputs": [
    {
     "ename": "AttributeError",
     "evalue": "'dynamodb.ServiceResource' object has no attribute 'scan'",
     "output_type": "error",
     "traceback": [
      "\u001b[0;31m---------------------------------------------------------------------------\u001b[0m",
      "\u001b[0;31mAttributeError\u001b[0m                            Traceback (most recent call last)",
      "Cell \u001b[0;32mIn[22], line 14\u001b[0m\n\u001b[1;32m      5\u001b[0m TABLE_NAME\u001b[38;5;241m=\u001b[39m\u001b[38;5;124m\"\u001b[39m\u001b[38;5;124mvbr_bot_career_convos\u001b[39m\u001b[38;5;124m\"\u001b[39m\n\u001b[1;32m      7\u001b[0m dynamodb \u001b[38;5;241m=\u001b[39m boto3\u001b[38;5;241m.\u001b[39mresource(\n\u001b[1;32m      8\u001b[0m     \u001b[38;5;124m'\u001b[39m\u001b[38;5;124mdynamodb\u001b[39m\u001b[38;5;124m'\u001b[39m,\n\u001b[1;32m      9\u001b[0m     aws_access_key_id\u001b[38;5;241m=\u001b[39maws_access_key_id,\n\u001b[1;32m     10\u001b[0m     aws_secret_access_key\u001b[38;5;241m=\u001b[39maws_secret_access_key,\n\u001b[1;32m     11\u001b[0m     region_name\u001b[38;5;241m=\u001b[39mregion_name\n\u001b[1;32m     12\u001b[0m )\n\u001b[0;32m---> 14\u001b[0m response \u001b[38;5;241m=\u001b[39m \u001b[43mdynamodb\u001b[49m\u001b[38;5;241;43m.\u001b[39;49m\u001b[43mscan\u001b[49m(\n\u001b[1;32m     15\u001b[0m     TableName\u001b[38;5;241m=\u001b[39mTABLE_NAME,\n\u001b[1;32m     16\u001b[0m     Select\u001b[38;5;241m=\u001b[39m\u001b[38;5;124m'\u001b[39m\u001b[38;5;124mALL_ATTRIBUTES\u001b[39m\u001b[38;5;124m'\u001b[39m,\n\u001b[1;32m     17\u001b[0m     ReturnConsumedCapacity\u001b[38;5;241m=\u001b[39m\u001b[38;5;124m'\u001b[39m\u001b[38;5;124mTOTAL\u001b[39m\u001b[38;5;124m'\u001b[39m\n\u001b[1;32m     18\u001b[0m )\n\u001b[1;32m     19\u001b[0m \u001b[38;5;66;03m# print(json.dumps(response))\u001b[39;00m\n\u001b[1;32m     20\u001b[0m \u001b[38;5;28;01mwith\u001b[39;00m \u001b[38;5;28mopen\u001b[39m(TABLE_NAME\u001b[38;5;241m+\u001b[39m\u001b[38;5;124m'\u001b[39m\u001b[38;5;124m.json\u001b[39m\u001b[38;5;124m'\u001b[39m, \u001b[38;5;124m'\u001b[39m\u001b[38;5;124mw\u001b[39m\u001b[38;5;124m'\u001b[39m) \u001b[38;5;28;01mas\u001b[39;00m f:\n",
      "\u001b[0;31mAttributeError\u001b[0m: 'dynamodb.ServiceResource' object has no attribute 'scan'"
     ]
    }
   ],
   "source": [
    "\n",
    "aws_access_key_id = os.getenv('AWS_ACCESS_KEY_ID')\n",
    "aws_secret_access_key = os.getenv('AWS_SECRET_ACCESS_KEY')\n",
    "region_name = os.getenv('AWS_DEFAULT_REGION')\n",
    "\n",
    "TABLE_NAME=\"vbr_bot_career_convos\"\n",
    "\n",
    "dynamodb = boto3.resource(\n",
    "    'dynamodb',\n",
    "    aws_access_key_id=aws_access_key_id,\n",
    "    aws_secret_access_key=aws_secret_access_key,\n",
    "    region_name=region_name\n",
    ")\n",
    "\n",
    "response = dynamodb.scan(\n",
    "    TableName=TABLE_NAME,\n",
    "    Select='ALL_ATTRIBUTES',\n",
    "    ReturnConsumedCapacity='TOTAL'\n",
    ")\n",
    "# print(json.dumps(response))\n",
    "with open(TABLE_NAME+'.json', 'w') as f:\n",
    "    print(json.dumps(response), file=f)"
   ]
  },
  {
   "cell_type": "code",
   "execution_count": null,
   "metadata": {},
   "outputs": [],
   "source": []
  }
 ],
 "metadata": {
  "kernelspec": {
   "display_name": "venv",
   "language": "python",
   "name": "python3"
  },
  "language_info": {
   "codemirror_mode": {
    "name": "ipython",
    "version": 3
   },
   "file_extension": ".py",
   "mimetype": "text/x-python",
   "name": "python",
   "nbconvert_exporter": "python",
   "pygments_lexer": "ipython3",
   "version": "3.10.14"
  }
 },
 "nbformat": 4,
 "nbformat_minor": 2
}
